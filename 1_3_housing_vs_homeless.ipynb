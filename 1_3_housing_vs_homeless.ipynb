{
 "cells": [
  {
   "cell_type": "markdown",
   "id": "14a4427f",
   "metadata": {},
   "source": [
    "## The number of people owed a prevention duty \n",
    "\n",
    "Now to compare the number of people owed a prevention duty in the final quarter on 2024 - to the number of social housing units proposed in 2024. \n",
    "The data on the number of people owed a prevention duty is available on gov.uk: [https://www.gov.uk/government/statistical-data-sets/live-tables-on-homelessness](https://www.gov.uk/government/statistical-data-sets/live-tables-on-homelessness). "
   ]
  },
  {
   "cell_type": "code",
   "execution_count": 1,
   "id": "d2c773e2",
   "metadata": {},
   "outputs": [],
   "source": [
    "import pandas as pd\n",
    "import json\n",
    "import time\n",
    "import random\n",
    "import requests\n",
    "import urllib3\n",
    "\n",
    "from elasticsearch import Elasticsearch\n",
    "\n",
    "import geopandas as gpd\n",
    "from geopy.geocoders import Nominatim\n",
    "\n",
    "import seaborn as sns\n",
    "from matplotlib.colors import to_hex\n",
    "\n",
    "import plotly.graph_objects as go\n",
    "import plotly.io as pio\n",
    "from shapely.geometry import Polygon, Point\n",
    "import plotly.express as px\n",
    "\n",
    "import sys\n",
    "# Import custom functions which help process and format the planning data \n",
    "sys.path.append('functions')\n",
    "import preprocessing_fncs as ppf\n",
    "import elastic_search_fncs as esf"
   ]
  },
  {
   "cell_type": "code",
   "execution_count": 2,
   "id": "ea1bdd8d",
   "metadata": {},
   "outputs": [],
   "source": [
    "df_pd = pd.read_excel(r'data/Detailed_LA_202412.xlsx', sheet_name='A1')\n",
    "df_social_housing_borough = pd.read_csv(r'data/formatted_data/social_housing_borough.csv')"
   ]
  },
  {
   "cell_type": "code",
   "execution_count": 3,
   "id": "c64535e3",
   "metadata": {},
   "outputs": [],
   "source": [
    "df_pd.columns = ['LAD_id',\n",
    " 'Borough',\n",
    " 'nan',\n",
    " 'nan',\n",
    " 'Total number of households assessed1,2',\n",
    " 'nan',\n",
    " 'Total households assessed as owed a duty',\n",
    " 'Threatened with homelessness - Prevention duty owed',\n",
    " 'Of which: due to service of valid Section 21 Notice',\n",
    " 'Homeless - Relief duty owed',\n",
    " 'nan',\n",
    " 'Not threatened with homelessness within 56 days - no duty owed',\n",
    " 'Withdrew application  before assessment - no duty owed',\n",
    " 'Not eligible / no longer eligible - no duty owed',\n",
    " 'nan',\n",
    " 'nan',\n",
    " 'nan',\n",
    " 'nan']"
   ]
  },
  {
   "cell_type": "code",
   "execution_count": 4,
   "id": "1c573f6c",
   "metadata": {},
   "outputs": [
    {
     "data": {
      "text/html": [
       "<div>\n",
       "<style scoped>\n",
       "    .dataframe tbody tr th:only-of-type {\n",
       "        vertical-align: middle;\n",
       "    }\n",
       "\n",
       "    .dataframe tbody tr th {\n",
       "        vertical-align: top;\n",
       "    }\n",
       "\n",
       "    .dataframe thead th {\n",
       "        text-align: right;\n",
       "    }\n",
       "</style>\n",
       "<table border=\"1\" class=\"dataframe\">\n",
       "  <thead>\n",
       "    <tr style=\"text-align: right;\">\n",
       "      <th></th>\n",
       "      <th>LAD_id</th>\n",
       "      <th>Borough</th>\n",
       "      <th>nan</th>\n",
       "      <th>nan</th>\n",
       "      <th>Total number of households assessed1,2</th>\n",
       "      <th>nan</th>\n",
       "      <th>Total households assessed as owed a duty</th>\n",
       "      <th>Threatened with homelessness - Prevention duty owed</th>\n",
       "      <th>Of which: due to service of valid Section 21 Notice</th>\n",
       "      <th>Homeless - Relief duty owed</th>\n",
       "      <th>nan</th>\n",
       "      <th>Not threatened with homelessness within 56 days - no duty owed</th>\n",
       "      <th>Withdrew application  before assessment - no duty owed</th>\n",
       "      <th>Not eligible / no longer eligible - no duty owed</th>\n",
       "      <th>nan</th>\n",
       "      <th>nan</th>\n",
       "      <th>nan</th>\n",
       "      <th>nan</th>\n",
       "    </tr>\n",
       "  </thead>\n",
       "  <tbody>\n",
       "    <tr>\n",
       "      <th>0</th>\n",
       "      <td>NaN</td>\n",
       "      <td>NaN</td>\n",
       "      <td>NaN</td>\n",
       "      <td>NaN</td>\n",
       "      <td>Total number of households assessed1,2</td>\n",
       "      <td>NaN</td>\n",
       "      <td>Total households assessed as owed a duty</td>\n",
       "      <td>Threatened with homelessness - Prevention duty...</td>\n",
       "      <td>Of which: due to service of valid Section...</td>\n",
       "      <td>Homeless - Relief duty owed</td>\n",
       "      <td>NaN</td>\n",
       "      <td>Not threatened with homelessness within 56 day...</td>\n",
       "      <td>Withdrew application  before assessment - no d...</td>\n",
       "      <td>Not eligible / no longer eligible - no duty owed</td>\n",
       "      <td>NaN</td>\n",
       "      <td>NaN</td>\n",
       "      <td>NaN</td>\n",
       "      <td>NaN</td>\n",
       "    </tr>\n",
       "    <tr>\n",
       "      <th>1</th>\n",
       "      <td>NaN</td>\n",
       "      <td>NaN</td>\n",
       "      <td>NaN</td>\n",
       "      <td>NaN</td>\n",
       "      <td>Grand Total</td>\n",
       "      <td>NaN</td>\n",
       "      <td>NaN</td>\n",
       "      <td>Threatened with homelessness – Prevention Duty...</td>\n",
       "      <td>Threatened with homelessness due to service of...</td>\n",
       "      <td>Already homeless – Relief Duty owed (include a...</td>\n",
       "      <td>NaN</td>\n",
       "      <td>Not threatened with homelessness within 56 days</td>\n",
       "      <td>Withdrew application  before assessment - no d...</td>\n",
       "      <td>Not eligible / no longer eligible - no duty owed</td>\n",
       "      <td>NaN</td>\n",
       "      <td>NaN</td>\n",
       "      <td>NaN</td>\n",
       "      <td>NaN</td>\n",
       "    </tr>\n",
       "    <tr>\n",
       "      <th>2</th>\n",
       "      <td>NaN</td>\n",
       "      <td>NaN</td>\n",
       "      <td>NaN</td>\n",
       "      <td>NaN</td>\n",
       "      <td>NaN</td>\n",
       "      <td>NaN</td>\n",
       "      <td>NaN</td>\n",
       "      <td>NaN</td>\n",
       "      <td>NaN</td>\n",
       "      <td>NaN</td>\n",
       "      <td>NaN</td>\n",
       "      <td>Number of households</td>\n",
       "      <td>NaN</td>\n",
       "      <td>NaN</td>\n",
       "      <td>NaN</td>\n",
       "      <td>NaN</td>\n",
       "      <td>NaN</td>\n",
       "      <td>NaN</td>\n",
       "    </tr>\n",
       "    <tr>\n",
       "      <th>3</th>\n",
       "      <td>NaN</td>\n",
       "      <td>NaN</td>\n",
       "      <td>NaN</td>\n",
       "      <td>NaN</td>\n",
       "      <td>Total initial assessments1,2,6</td>\n",
       "      <td>NaN</td>\n",
       "      <td>Assessed as owed a duty</td>\n",
       "      <td>NaN</td>\n",
       "      <td>NaN</td>\n",
       "      <td>NaN</td>\n",
       "      <td>NaN</td>\n",
       "      <td>Not homeless nor threatened with homelessness ...</td>\n",
       "      <td>Withdrew application  before assessment - no d...</td>\n",
       "      <td>Not eligible / no longer eligible - no duty owed</td>\n",
       "      <td>NaN</td>\n",
       "      <td>Number of households\\n in area5 (000s)</td>\n",
       "      <td>Households assessed as threatened with homeles...</td>\n",
       "      <td>Households assessed as homeless\\nper (000s)</td>\n",
       "    </tr>\n",
       "    <tr>\n",
       "      <th>4</th>\n",
       "      <td>NaN</td>\n",
       "      <td>NaN</td>\n",
       "      <td>NaN</td>\n",
       "      <td>NaN</td>\n",
       "      <td>NaN</td>\n",
       "      <td>NaN</td>\n",
       "      <td>Total owed a prevention or relief duty</td>\n",
       "      <td>Threatened with homelessness within 56 days - ...</td>\n",
       "      <td>Of which:</td>\n",
       "      <td>Homeless - \\nRelief duty owed4</td>\n",
       "      <td>NaN</td>\n",
       "      <td>NaN</td>\n",
       "      <td>NaN</td>\n",
       "      <td>NaN</td>\n",
       "      <td>NaN</td>\n",
       "      <td>NaN</td>\n",
       "      <td>NaN</td>\n",
       "      <td>NaN</td>\n",
       "    </tr>\n",
       "    <tr>\n",
       "      <th>5</th>\n",
       "      <td>NaN</td>\n",
       "      <td>NaN</td>\n",
       "      <td>NaN</td>\n",
       "      <td>NaN</td>\n",
       "      <td>NaN</td>\n",
       "      <td>NaN</td>\n",
       "      <td>NaN</td>\n",
       "      <td>NaN</td>\n",
       "      <td>due to service of valid Section 21 Notice3</td>\n",
       "      <td>NaN</td>\n",
       "      <td>NaN</td>\n",
       "      <td>NaN</td>\n",
       "      <td>NaN</td>\n",
       "      <td>NaN</td>\n",
       "      <td>NaN</td>\n",
       "      <td>NaN</td>\n",
       "      <td>NaN</td>\n",
       "      <td>NaN</td>\n",
       "    </tr>\n",
       "    <tr>\n",
       "      <th>6</th>\n",
       "      <td>E92000001</td>\n",
       "      <td>ENGLAND</td>\n",
       "      <td>NaN</td>\n",
       "      <td>NaN</td>\n",
       "      <td>83800</td>\n",
       "      <td>NaN</td>\n",
       "      <td>76820</td>\n",
       "      <td>34010</td>\n",
       "      <td>5820</td>\n",
       "      <td>42810</td>\n",
       "      <td>NaN</td>\n",
       "      <td>3310</td>\n",
       "      <td>3070</td>\n",
       "      <td>600</td>\n",
       "      <td>NaN</td>\n",
       "      <td>24209.029</td>\n",
       "      <td>1.404817</td>\n",
       "      <td>1.768463</td>\n",
       "    </tr>\n",
       "    <tr>\n",
       "      <th>7</th>\n",
       "      <td>E12000007</td>\n",
       "      <td>London</td>\n",
       "      <td>NaN</td>\n",
       "      <td>NaN</td>\n",
       "      <td>18860</td>\n",
       "      <td>NaN</td>\n",
       "      <td>17250</td>\n",
       "      <td>6890</td>\n",
       "      <td>1240</td>\n",
       "      <td>10360</td>\n",
       "      <td>NaN</td>\n",
       "      <td>570</td>\n",
       "      <td>920</td>\n",
       "      <td>120</td>\n",
       "      <td>NaN</td>\n",
       "      <td>3659.46</td>\n",
       "      <td>1.88189</td>\n",
       "      <td>2.831091</td>\n",
       "    </tr>\n",
       "    <tr>\n",
       "      <th>8</th>\n",
       "      <td>-</td>\n",
       "      <td>Rest of England</td>\n",
       "      <td>NaN</td>\n",
       "      <td>NaN</td>\n",
       "      <td>64930</td>\n",
       "      <td>NaN</td>\n",
       "      <td>59580</td>\n",
       "      <td>27120</td>\n",
       "      <td>4590</td>\n",
       "      <td>32450</td>\n",
       "      <td>NaN</td>\n",
       "      <td>2740</td>\n",
       "      <td>2140</td>\n",
       "      <td>480</td>\n",
       "      <td>NaN</td>\n",
       "      <td>20549.569</td>\n",
       "      <td>1.31986</td>\n",
       "      <td>1.57923</td>\n",
       "    </tr>\n",
       "    <tr>\n",
       "      <th>9</th>\n",
       "      <td>NaN</td>\n",
       "      <td>NaN</td>\n",
       "      <td>NaN</td>\n",
       "      <td>NaN</td>\n",
       "      <td>NaN</td>\n",
       "      <td>NaN</td>\n",
       "      <td>NaN</td>\n",
       "      <td>NaN</td>\n",
       "      <td>NaN</td>\n",
       "      <td>NaN</td>\n",
       "      <td>NaN</td>\n",
       "      <td>NaN</td>\n",
       "      <td>NaN</td>\n",
       "      <td>NaN</td>\n",
       "      <td>NaN</td>\n",
       "      <td>NaN</td>\n",
       "      <td>NaN</td>\n",
       "      <td>NaN</td>\n",
       "    </tr>\n",
       "    <tr>\n",
       "      <th>10</th>\n",
       "      <td>E12000001</td>\n",
       "      <td>North East</td>\n",
       "      <td>NaN</td>\n",
       "      <td>NaN</td>\n",
       "      <td>4940</td>\n",
       "      <td>NaN</td>\n",
       "      <td>4700</td>\n",
       "      <td>2090</td>\n",
       "      <td>280</td>\n",
       "      <td>2610</td>\n",
       "      <td>NaN</td>\n",
       "      <td>80</td>\n",
       "      <td>140</td>\n",
       "      <td>20</td>\n",
       "      <td>NaN</td>\n",
       "      <td>1196.599</td>\n",
       "      <td>1.744945</td>\n",
       "      <td>2.183689</td>\n",
       "    </tr>\n",
       "    <tr>\n",
       "      <th>11</th>\n",
       "      <td>E12000002</td>\n",
       "      <td>North West</td>\n",
       "      <td>NaN</td>\n",
       "      <td>NaN</td>\n",
       "      <td>10970</td>\n",
       "      <td>NaN</td>\n",
       "      <td>10580</td>\n",
       "      <td>4530</td>\n",
       "      <td>820</td>\n",
       "      <td>6040</td>\n",
       "      <td>NaN</td>\n",
       "      <td>290</td>\n",
       "      <td>90</td>\n",
       "      <td>20</td>\n",
       "      <td>NaN</td>\n",
       "      <td>3231.571</td>\n",
       "      <td>1.403155</td>\n",
       "      <td>1.870034</td>\n",
       "    </tr>\n",
       "  </tbody>\n",
       "</table>\n",
       "</div>"
      ],
      "text/plain": [
       "       LAD_id          Borough nan nan  \\\n",
       "0         NaN              NaN NaN NaN   \n",
       "1         NaN              NaN NaN NaN   \n",
       "2         NaN              NaN NaN NaN   \n",
       "3         NaN              NaN NaN NaN   \n",
       "4         NaN              NaN NaN NaN   \n",
       "5         NaN              NaN NaN NaN   \n",
       "6   E92000001          ENGLAND NaN NaN   \n",
       "7   E12000007           London NaN NaN   \n",
       "8           -  Rest of England NaN NaN   \n",
       "9         NaN              NaN NaN NaN   \n",
       "10  E12000001       North East NaN NaN   \n",
       "11  E12000002       North West NaN NaN   \n",
       "\n",
       "    Total number of households assessed1,2 nan  \\\n",
       "0   Total number of households assessed1,2 NaN   \n",
       "1                              Grand Total NaN   \n",
       "2                                      NaN NaN   \n",
       "3           Total initial assessments1,2,6 NaN   \n",
       "4                                      NaN NaN   \n",
       "5                                      NaN NaN   \n",
       "6                                    83800 NaN   \n",
       "7                                    18860 NaN   \n",
       "8                                    64930 NaN   \n",
       "9                                      NaN NaN   \n",
       "10                                    4940 NaN   \n",
       "11                                   10970 NaN   \n",
       "\n",
       "    Total households assessed as owed a duty  \\\n",
       "0   Total households assessed as owed a duty   \n",
       "1                                        NaN   \n",
       "2                                        NaN   \n",
       "3                    Assessed as owed a duty   \n",
       "4     Total owed a prevention or relief duty   \n",
       "5                                        NaN   \n",
       "6                                      76820   \n",
       "7                                      17250   \n",
       "8                                      59580   \n",
       "9                                        NaN   \n",
       "10                                      4700   \n",
       "11                                     10580   \n",
       "\n",
       "   Threatened with homelessness - Prevention duty owed  \\\n",
       "0   Threatened with homelessness - Prevention duty...    \n",
       "1   Threatened with homelessness – Prevention Duty...    \n",
       "2                                                 NaN    \n",
       "3                                                 NaN    \n",
       "4   Threatened with homelessness within 56 days - ...    \n",
       "5                                                 NaN    \n",
       "6                                               34010    \n",
       "7                                                6890    \n",
       "8                                               27120    \n",
       "9                                                 NaN    \n",
       "10                                               2090    \n",
       "11                                               4530    \n",
       "\n",
       "   Of which: due to service of valid Section 21 Notice  \\\n",
       "0        Of which: due to service of valid Section...    \n",
       "1   Threatened with homelessness due to service of...    \n",
       "2                                                 NaN    \n",
       "3                                                 NaN    \n",
       "4                                           Of which:    \n",
       "5          due to service of valid Section 21 Notice3    \n",
       "6                                                5820    \n",
       "7                                                1240    \n",
       "8                                                4590    \n",
       "9                                                 NaN    \n",
       "10                                                280    \n",
       "11                                                820    \n",
       "\n",
       "                          Homeless - Relief duty owed nan  \\\n",
       "0                         Homeless - Relief duty owed NaN   \n",
       "1   Already homeless – Relief Duty owed (include a... NaN   \n",
       "2                                                 NaN NaN   \n",
       "3                                                 NaN NaN   \n",
       "4                      Homeless - \\nRelief duty owed4 NaN   \n",
       "5                                                 NaN NaN   \n",
       "6                                               42810 NaN   \n",
       "7                                               10360 NaN   \n",
       "8                                               32450 NaN   \n",
       "9                                                 NaN NaN   \n",
       "10                                               2610 NaN   \n",
       "11                                               6040 NaN   \n",
       "\n",
       "   Not threatened with homelessness within 56 days - no duty owed  \\\n",
       "0   Not threatened with homelessness within 56 day...               \n",
       "1     Not threatened with homelessness within 56 days               \n",
       "2                                Number of households               \n",
       "3   Not homeless nor threatened with homelessness ...               \n",
       "4                                                 NaN               \n",
       "5                                                 NaN               \n",
       "6                                                3310               \n",
       "7                                                 570               \n",
       "8                                                2740               \n",
       "9                                                 NaN               \n",
       "10                                                 80               \n",
       "11                                                290               \n",
       "\n",
       "   Withdrew application  before assessment - no duty owed  \\\n",
       "0   Withdrew application  before assessment - no d...       \n",
       "1   Withdrew application  before assessment - no d...       \n",
       "2                                                 NaN       \n",
       "3   Withdrew application  before assessment - no d...       \n",
       "4                                                 NaN       \n",
       "5                                                 NaN       \n",
       "6                                                3070       \n",
       "7                                                 920       \n",
       "8                                                2140       \n",
       "9                                                 NaN       \n",
       "10                                                140       \n",
       "11                                                 90       \n",
       "\n",
       "    Not eligible / no longer eligible - no duty owed nan  \\\n",
       "0   Not eligible / no longer eligible - no duty owed NaN   \n",
       "1   Not eligible / no longer eligible - no duty owed NaN   \n",
       "2                                                NaN NaN   \n",
       "3   Not eligible / no longer eligible - no duty owed NaN   \n",
       "4                                                NaN NaN   \n",
       "5                                                NaN NaN   \n",
       "6                                                600 NaN   \n",
       "7                                                120 NaN   \n",
       "8                                                480 NaN   \n",
       "9                                                NaN NaN   \n",
       "10                                                20 NaN   \n",
       "11                                                20 NaN   \n",
       "\n",
       "                                       nan  \\\n",
       "0                                      NaN   \n",
       "1                                      NaN   \n",
       "2                                      NaN   \n",
       "3   Number of households\\n in area5 (000s)   \n",
       "4                                      NaN   \n",
       "5                                      NaN   \n",
       "6                                24209.029   \n",
       "7                                  3659.46   \n",
       "8                                20549.569   \n",
       "9                                      NaN   \n",
       "10                                1196.599   \n",
       "11                                3231.571   \n",
       "\n",
       "                                                  nan  \\\n",
       "0                                                 NaN   \n",
       "1                                                 NaN   \n",
       "2                                                 NaN   \n",
       "3   Households assessed as threatened with homeles...   \n",
       "4                                                 NaN   \n",
       "5                                                 NaN   \n",
       "6                                            1.404817   \n",
       "7                                             1.88189   \n",
       "8                                             1.31986   \n",
       "9                                                 NaN   \n",
       "10                                           1.744945   \n",
       "11                                           1.403155   \n",
       "\n",
       "                                            nan  \n",
       "0                                           NaN  \n",
       "1                                           NaN  \n",
       "2                                           NaN  \n",
       "3   Households assessed as homeless\\nper (000s)  \n",
       "4                                           NaN  \n",
       "5                                           NaN  \n",
       "6                                      1.768463  \n",
       "7                                      2.831091  \n",
       "8                                       1.57923  \n",
       "9                                           NaN  \n",
       "10                                     2.183689  \n",
       "11                                     1.870034  "
      ]
     },
     "execution_count": 4,
     "metadata": {},
     "output_type": "execute_result"
    }
   ],
   "source": [
    "df_pd.head(12)"
   ]
  },
  {
   "cell_type": "code",
   "execution_count": 5,
   "id": "11d2d5f4",
   "metadata": {},
   "outputs": [],
   "source": [
    "df_pd = df_pd[6:]"
   ]
  },
  {
   "cell_type": "code",
   "execution_count": 6,
   "id": "64943f83",
   "metadata": {},
   "outputs": [],
   "source": [
    "df_pd.drop(columns=['nan'], inplace=True)"
   ]
  },
  {
   "cell_type": "code",
   "execution_count": 7,
   "id": "12ad5aba",
   "metadata": {},
   "outputs": [],
   "source": [
    "df_pd = ppf.format_df(df_pd, borough_col_name='Borough')"
   ]
  },
  {
   "cell_type": "code",
   "execution_count": 30,
   "id": "77663a52",
   "metadata": {},
   "outputs": [],
   "source": [
    "boroughs = ['Barking and Dagenham', 'Barnet', 'Camden', 'Ealing', 'Hackney',\n",
    "       'Havering', 'Hounslow', 'Islington', 'Lambeth', 'Redbridge',\n",
    "       'Greenwich', 'Merton', 'Bromley', 'Southwark', 'Waltham Forest',\n",
    "       'Wandsworth', 'Brent', 'Croydon', 'Harrow', 'Newham',\n",
    "       'Tower Hamlets', 'Bexley', 'Enfield', 'Hammersmith and Fulham',\n",
    "       'Haringey', 'Hillingdon', 'Kingston upon Thames', 'Lewisham', 'Richmond upon Thames',\n",
    "       'Sutton', 'Westminster', 'City of London', 'Kensington and Chelsea']"
   ]
  },
  {
   "cell_type": "code",
   "execution_count": 32,
   "id": "d24f1f4b",
   "metadata": {},
   "outputs": [],
   "source": [
    "df_pd = df_pd[df_pd['Borough'].isin(boroughs)]"
   ]
  },
  {
   "cell_type": "code",
   "execution_count": 37,
   "id": "8930a23e",
   "metadata": {},
   "outputs": [],
   "source": [
    "df_pd = df_pd[['Borough', 'Total number of households assessed1,2']]"
   ]
  },
  {
   "cell_type": "code",
   "execution_count": 33,
   "id": "b2d46f53",
   "metadata": {},
   "outputs": [],
   "source": [
    "df_social_housing_borough = ppf.format_df(df_social_housing_borough, borough_col_name='Planning authority')"
   ]
  },
  {
   "cell_type": "code",
   "execution_count": 51,
   "id": "7dec3f16",
   "metadata": {},
   "outputs": [],
   "source": [
    "# define inner and outer boroughs\n",
    "inner_boroughs = df_social_housing_borough[df_social_housing_borough['Region'] == 'Inner']['Planning authority'].unique()\n",
    "outer_boroughs = df_social_housing_borough[df_social_housing_borough['Region'] == 'Outer']['Planning authority'].unique()\n",
    "\n",
    "# dicrete color map\n",
    "outer_palette = sns.color_palette(\"RdPu\", n_colors=len(outer_boroughs))\n",
    "inner_palette = sns.color_palette(\"PuBuGn\", n_colors=len(inner_boroughs))\n",
    "\n",
    "outer_colors_hex = [to_hex(c) for c in outer_palette]\n",
    "inner_colors_hex = [to_hex(c) for c in inner_palette]\n",
    "\n",
    "# Assign colors to boroughs\n",
    "color_map = {}\n",
    "\n",
    "for area, color in zip(inner_boroughs, inner_colors_hex):\n",
    "    color_map[area] = color\n",
    "\n",
    "for area, color in zip(outer_boroughs, outer_colors_hex):\n",
    "    color_map[area] = color"
   ]
  },
  {
   "cell_type": "code",
   "execution_count": 52,
   "id": "9d6ee118",
   "metadata": {},
   "outputs": [],
   "source": [
    "df_social_housing_borough = df_social_housing_borough[df_social_housing_borough['Planning authority'].isin(boroughs)]"
   ]
  },
  {
   "cell_type": "code",
   "execution_count": 53,
   "id": "ec6c8fab",
   "metadata": {},
   "outputs": [
    {
     "data": {
      "application/vnd.plotly.v1+json": {
       "config": {
        "plotlyServerURL": "https://plot.ly"
       },
       "data": [
        {
         "customdata": [
          [
           "Inner"
          ],
          [
           "Outer"
          ],
          [
           "Inner"
          ],
          [
           "Outer"
          ],
          [
           "Inner"
          ],
          [
           "Inner"
          ],
          [
           "Inner"
          ],
          [
           "Outer"
          ],
          [
           "Outer"
          ],
          [
           "Inner"
          ],
          [
           "Outer"
          ],
          [
           "Outer"
          ],
          [
           "Outer"
          ],
          [
           "Outer"
          ],
          [
           "Inner"
          ],
          [
           "Outer"
          ],
          [
           "Outer"
          ],
          [
           "Outer"
          ],
          [
           "Outer"
          ],
          [
           "Outer"
          ],
          [
           "Outer"
          ],
          [
           "Outer"
          ],
          [
           "Outer"
          ],
          [
           "Outer"
          ],
          [
           "Inner"
          ],
          [
           "Inner"
          ],
          [
           "Outer"
          ],
          [
           "Inner"
          ],
          [
           "Outer"
          ],
          [
           "Outer"
          ],
          [
           "Outer"
          ],
          [
           "Outer"
          ],
          [
           "Inner"
          ]
         ],
         "hovertemplate": "<b>%{y}</b><br>Region: %{customdata[0]}<br>Total Proposed Units: %{x}<br><extra></extra>",
         "marker": {
          "color": [
           "#66a9cf",
           "#fcceca",
           "#d0d1e6",
           "#fde0dd",
           "#4698c5",
           "#91b6d7",
           "#258bae",
           "#ad017e",
           "#cd238f",
           "#017369",
           "#8b0179",
           "#e5459a",
           "#fee8e5",
           "#f98dae",
           "#b4c4df",
           "#fbb9bc",
           "#fa9eb5",
           "#fdd7d4",
           "#fef0ec",
           "#58006e",
           "#fbacb9",
           "#9c017c",
           "#fcc5c0",
           "#dc3397",
           "#028189",
           "#f2e9f4",
           "#bd1186",
           "#e3dded",
           "#f87aa8",
           "#690173",
           "#f767a1",
           "#790177",
           "#015f4d"
          ]
         },
         "orientation": "h",
         "type": "bar",
         "x": [
          3469,
          2344,
          1985,
          1833,
          1815,
          1769,
          1766,
          1566,
          1262,
          1222,
          1120,
          998,
          949,
          902,
          896,
          679,
          653,
          633,
          508,
          503,
          459,
          456,
          421,
          377,
          360,
          301,
          288,
          235,
          216,
          200,
          78,
          54,
          2
         ],
         "y": [
          "Southwark",
          "Hounslow",
          "Islington",
          "Ealing",
          "Wandsworth",
          "Greenwich",
          "Tower Hamlets",
          "Haringey",
          "Enfield",
          "Westminster",
          "Kingston upon Thames",
          "Newham",
          "Barnet",
          "Brent",
          "Lambeth",
          "Merton",
          "Waltham Forest",
          "Havering",
          "Barking and Dagenham",
          "Kensington and Chelsea",
          "Bromley",
          "Hillingdon",
          "Redbridge",
          "Bexley",
          "Lewisham",
          "Camden",
          "Hammersmith and Fulham",
          "Hackney",
          "Croydon",
          "Sutton",
          "Harrow",
          "Richmond upon Thames",
          "City of London"
         ]
        }
       ],
       "layout": {
        "autosize": false,
        "height": 825,
        "template": {
         "data": {
          "bar": [
           {
            "error_x": {
             "color": "#2a3f5f"
            },
            "error_y": {
             "color": "#2a3f5f"
            },
            "marker": {
             "line": {
              "color": "white",
              "width": 0.5
             },
             "pattern": {
              "fillmode": "overlay",
              "size": 10,
              "solidity": 0.2
             }
            },
            "type": "bar"
           }
          ],
          "barpolar": [
           {
            "marker": {
             "line": {
              "color": "white",
              "width": 0.5
             },
             "pattern": {
              "fillmode": "overlay",
              "size": 10,
              "solidity": 0.2
             }
            },
            "type": "barpolar"
           }
          ],
          "carpet": [
           {
            "aaxis": {
             "endlinecolor": "#2a3f5f",
             "gridcolor": "#C8D4E3",
             "linecolor": "#C8D4E3",
             "minorgridcolor": "#C8D4E3",
             "startlinecolor": "#2a3f5f"
            },
            "baxis": {
             "endlinecolor": "#2a3f5f",
             "gridcolor": "#C8D4E3",
             "linecolor": "#C8D4E3",
             "minorgridcolor": "#C8D4E3",
             "startlinecolor": "#2a3f5f"
            },
            "type": "carpet"
           }
          ],
          "choropleth": [
           {
            "colorbar": {
             "outlinewidth": 0,
             "ticks": ""
            },
            "type": "choropleth"
           }
          ],
          "contour": [
           {
            "colorbar": {
             "outlinewidth": 0,
             "ticks": ""
            },
            "colorscale": [
             [
              0,
              "#0d0887"
             ],
             [
              0.1111111111111111,
              "#46039f"
             ],
             [
              0.2222222222222222,
              "#7201a8"
             ],
             [
              0.3333333333333333,
              "#9c179e"
             ],
             [
              0.4444444444444444,
              "#bd3786"
             ],
             [
              0.5555555555555556,
              "#d8576b"
             ],
             [
              0.6666666666666666,
              "#ed7953"
             ],
             [
              0.7777777777777778,
              "#fb9f3a"
             ],
             [
              0.8888888888888888,
              "#fdca26"
             ],
             [
              1,
              "#f0f921"
             ]
            ],
            "type": "contour"
           }
          ],
          "contourcarpet": [
           {
            "colorbar": {
             "outlinewidth": 0,
             "ticks": ""
            },
            "type": "contourcarpet"
           }
          ],
          "heatmap": [
           {
            "colorbar": {
             "outlinewidth": 0,
             "ticks": ""
            },
            "colorscale": [
             [
              0,
              "#0d0887"
             ],
             [
              0.1111111111111111,
              "#46039f"
             ],
             [
              0.2222222222222222,
              "#7201a8"
             ],
             [
              0.3333333333333333,
              "#9c179e"
             ],
             [
              0.4444444444444444,
              "#bd3786"
             ],
             [
              0.5555555555555556,
              "#d8576b"
             ],
             [
              0.6666666666666666,
              "#ed7953"
             ],
             [
              0.7777777777777778,
              "#fb9f3a"
             ],
             [
              0.8888888888888888,
              "#fdca26"
             ],
             [
              1,
              "#f0f921"
             ]
            ],
            "type": "heatmap"
           }
          ],
          "heatmapgl": [
           {
            "colorbar": {
             "outlinewidth": 0,
             "ticks": ""
            },
            "colorscale": [
             [
              0,
              "#0d0887"
             ],
             [
              0.1111111111111111,
              "#46039f"
             ],
             [
              0.2222222222222222,
              "#7201a8"
             ],
             [
              0.3333333333333333,
              "#9c179e"
             ],
             [
              0.4444444444444444,
              "#bd3786"
             ],
             [
              0.5555555555555556,
              "#d8576b"
             ],
             [
              0.6666666666666666,
              "#ed7953"
             ],
             [
              0.7777777777777778,
              "#fb9f3a"
             ],
             [
              0.8888888888888888,
              "#fdca26"
             ],
             [
              1,
              "#f0f921"
             ]
            ],
            "type": "heatmapgl"
           }
          ],
          "histogram": [
           {
            "marker": {
             "pattern": {
              "fillmode": "overlay",
              "size": 10,
              "solidity": 0.2
             }
            },
            "type": "histogram"
           }
          ],
          "histogram2d": [
           {
            "colorbar": {
             "outlinewidth": 0,
             "ticks": ""
            },
            "colorscale": [
             [
              0,
              "#0d0887"
             ],
             [
              0.1111111111111111,
              "#46039f"
             ],
             [
              0.2222222222222222,
              "#7201a8"
             ],
             [
              0.3333333333333333,
              "#9c179e"
             ],
             [
              0.4444444444444444,
              "#bd3786"
             ],
             [
              0.5555555555555556,
              "#d8576b"
             ],
             [
              0.6666666666666666,
              "#ed7953"
             ],
             [
              0.7777777777777778,
              "#fb9f3a"
             ],
             [
              0.8888888888888888,
              "#fdca26"
             ],
             [
              1,
              "#f0f921"
             ]
            ],
            "type": "histogram2d"
           }
          ],
          "histogram2dcontour": [
           {
            "colorbar": {
             "outlinewidth": 0,
             "ticks": ""
            },
            "colorscale": [
             [
              0,
              "#0d0887"
             ],
             [
              0.1111111111111111,
              "#46039f"
             ],
             [
              0.2222222222222222,
              "#7201a8"
             ],
             [
              0.3333333333333333,
              "#9c179e"
             ],
             [
              0.4444444444444444,
              "#bd3786"
             ],
             [
              0.5555555555555556,
              "#d8576b"
             ],
             [
              0.6666666666666666,
              "#ed7953"
             ],
             [
              0.7777777777777778,
              "#fb9f3a"
             ],
             [
              0.8888888888888888,
              "#fdca26"
             ],
             [
              1,
              "#f0f921"
             ]
            ],
            "type": "histogram2dcontour"
           }
          ],
          "mesh3d": [
           {
            "colorbar": {
             "outlinewidth": 0,
             "ticks": ""
            },
            "type": "mesh3d"
           }
          ],
          "parcoords": [
           {
            "line": {
             "colorbar": {
              "outlinewidth": 0,
              "ticks": ""
             }
            },
            "type": "parcoords"
           }
          ],
          "pie": [
           {
            "automargin": true,
            "type": "pie"
           }
          ],
          "scatter": [
           {
            "fillpattern": {
             "fillmode": "overlay",
             "size": 10,
             "solidity": 0.2
            },
            "type": "scatter"
           }
          ],
          "scatter3d": [
           {
            "line": {
             "colorbar": {
              "outlinewidth": 0,
              "ticks": ""
             }
            },
            "marker": {
             "colorbar": {
              "outlinewidth": 0,
              "ticks": ""
             }
            },
            "type": "scatter3d"
           }
          ],
          "scattercarpet": [
           {
            "marker": {
             "colorbar": {
              "outlinewidth": 0,
              "ticks": ""
             }
            },
            "type": "scattercarpet"
           }
          ],
          "scattergeo": [
           {
            "marker": {
             "colorbar": {
              "outlinewidth": 0,
              "ticks": ""
             }
            },
            "type": "scattergeo"
           }
          ],
          "scattergl": [
           {
            "marker": {
             "colorbar": {
              "outlinewidth": 0,
              "ticks": ""
             }
            },
            "type": "scattergl"
           }
          ],
          "scattermapbox": [
           {
            "marker": {
             "colorbar": {
              "outlinewidth": 0,
              "ticks": ""
             }
            },
            "type": "scattermapbox"
           }
          ],
          "scatterpolar": [
           {
            "marker": {
             "colorbar": {
              "outlinewidth": 0,
              "ticks": ""
             }
            },
            "type": "scatterpolar"
           }
          ],
          "scatterpolargl": [
           {
            "marker": {
             "colorbar": {
              "outlinewidth": 0,
              "ticks": ""
             }
            },
            "type": "scatterpolargl"
           }
          ],
          "scatterternary": [
           {
            "marker": {
             "colorbar": {
              "outlinewidth": 0,
              "ticks": ""
             }
            },
            "type": "scatterternary"
           }
          ],
          "surface": [
           {
            "colorbar": {
             "outlinewidth": 0,
             "ticks": ""
            },
            "colorscale": [
             [
              0,
              "#0d0887"
             ],
             [
              0.1111111111111111,
              "#46039f"
             ],
             [
              0.2222222222222222,
              "#7201a8"
             ],
             [
              0.3333333333333333,
              "#9c179e"
             ],
             [
              0.4444444444444444,
              "#bd3786"
             ],
             [
              0.5555555555555556,
              "#d8576b"
             ],
             [
              0.6666666666666666,
              "#ed7953"
             ],
             [
              0.7777777777777778,
              "#fb9f3a"
             ],
             [
              0.8888888888888888,
              "#fdca26"
             ],
             [
              1,
              "#f0f921"
             ]
            ],
            "type": "surface"
           }
          ],
          "table": [
           {
            "cells": {
             "fill": {
              "color": "#EBF0F8"
             },
             "line": {
              "color": "white"
             }
            },
            "header": {
             "fill": {
              "color": "#C8D4E3"
             },
             "line": {
              "color": "white"
             }
            },
            "type": "table"
           }
          ]
         },
         "layout": {
          "annotationdefaults": {
           "arrowcolor": "#2a3f5f",
           "arrowhead": 0,
           "arrowwidth": 1
          },
          "autotypenumbers": "strict",
          "coloraxis": {
           "colorbar": {
            "outlinewidth": 0,
            "ticks": ""
           }
          },
          "colorscale": {
           "diverging": [
            [
             0,
             "#8e0152"
            ],
            [
             0.1,
             "#c51b7d"
            ],
            [
             0.2,
             "#de77ae"
            ],
            [
             0.3,
             "#f1b6da"
            ],
            [
             0.4,
             "#fde0ef"
            ],
            [
             0.5,
             "#f7f7f7"
            ],
            [
             0.6,
             "#e6f5d0"
            ],
            [
             0.7,
             "#b8e186"
            ],
            [
             0.8,
             "#7fbc41"
            ],
            [
             0.9,
             "#4d9221"
            ],
            [
             1,
             "#276419"
            ]
           ],
           "sequential": [
            [
             0,
             "#0d0887"
            ],
            [
             0.1111111111111111,
             "#46039f"
            ],
            [
             0.2222222222222222,
             "#7201a8"
            ],
            [
             0.3333333333333333,
             "#9c179e"
            ],
            [
             0.4444444444444444,
             "#bd3786"
            ],
            [
             0.5555555555555556,
             "#d8576b"
            ],
            [
             0.6666666666666666,
             "#ed7953"
            ],
            [
             0.7777777777777778,
             "#fb9f3a"
            ],
            [
             0.8888888888888888,
             "#fdca26"
            ],
            [
             1,
             "#f0f921"
            ]
           ],
           "sequentialminus": [
            [
             0,
             "#0d0887"
            ],
            [
             0.1111111111111111,
             "#46039f"
            ],
            [
             0.2222222222222222,
             "#7201a8"
            ],
            [
             0.3333333333333333,
             "#9c179e"
            ],
            [
             0.4444444444444444,
             "#bd3786"
            ],
            [
             0.5555555555555556,
             "#d8576b"
            ],
            [
             0.6666666666666666,
             "#ed7953"
            ],
            [
             0.7777777777777778,
             "#fb9f3a"
            ],
            [
             0.8888888888888888,
             "#fdca26"
            ],
            [
             1,
             "#f0f921"
            ]
           ]
          },
          "colorway": [
           "#636efa",
           "#EF553B",
           "#00cc96",
           "#ab63fa",
           "#FFA15A",
           "#19d3f3",
           "#FF6692",
           "#B6E880",
           "#FF97FF",
           "#FECB52"
          ],
          "font": {
           "color": "#2a3f5f"
          },
          "geo": {
           "bgcolor": "white",
           "lakecolor": "white",
           "landcolor": "white",
           "showlakes": true,
           "showland": true,
           "subunitcolor": "#C8D4E3"
          },
          "hoverlabel": {
           "align": "left"
          },
          "hovermode": "closest",
          "mapbox": {
           "style": "light"
          },
          "paper_bgcolor": "white",
          "plot_bgcolor": "white",
          "polar": {
           "angularaxis": {
            "gridcolor": "#EBF0F8",
            "linecolor": "#EBF0F8",
            "ticks": ""
           },
           "bgcolor": "white",
           "radialaxis": {
            "gridcolor": "#EBF0F8",
            "linecolor": "#EBF0F8",
            "ticks": ""
           }
          },
          "scene": {
           "xaxis": {
            "backgroundcolor": "white",
            "gridcolor": "#DFE8F3",
            "gridwidth": 2,
            "linecolor": "#EBF0F8",
            "showbackground": true,
            "ticks": "",
            "zerolinecolor": "#EBF0F8"
           },
           "yaxis": {
            "backgroundcolor": "white",
            "gridcolor": "#DFE8F3",
            "gridwidth": 2,
            "linecolor": "#EBF0F8",
            "showbackground": true,
            "ticks": "",
            "zerolinecolor": "#EBF0F8"
           },
           "zaxis": {
            "backgroundcolor": "white",
            "gridcolor": "#DFE8F3",
            "gridwidth": 2,
            "linecolor": "#EBF0F8",
            "showbackground": true,
            "ticks": "",
            "zerolinecolor": "#EBF0F8"
           }
          },
          "shapedefaults": {
           "line": {
            "color": "#2a3f5f"
           }
          },
          "ternary": {
           "aaxis": {
            "gridcolor": "#DFE8F3",
            "linecolor": "#A2B1C6",
            "ticks": ""
           },
           "baxis": {
            "gridcolor": "#DFE8F3",
            "linecolor": "#A2B1C6",
            "ticks": ""
           },
           "bgcolor": "white",
           "caxis": {
            "gridcolor": "#DFE8F3",
            "linecolor": "#A2B1C6",
            "ticks": ""
           }
          },
          "title": {
           "x": 0.05
          },
          "xaxis": {
           "automargin": true,
           "gridcolor": "#EBF0F8",
           "linecolor": "#EBF0F8",
           "ticks": "",
           "title": {
            "standoff": 15
           },
           "zerolinecolor": "#EBF0F8",
           "zerolinewidth": 2
          },
          "yaxis": {
           "automargin": true,
           "gridcolor": "#EBF0F8",
           "linecolor": "#EBF0F8",
           "ticks": "",
           "title": {
            "standoff": 15
           },
           "zerolinecolor": "#EBF0F8",
           "zerolinewidth": 2
          }
         }
        },
        "title": {
         "text": "Fig 6. Total Proposed Social Housing Units by Borough (2015-2025)"
        },
        "xaxis": {
         "title": {
          "text": "Proposed Social Housing Units"
         }
        },
        "yaxis": {
         "autorange": "reversed",
         "title": {
          "text": "Borough"
         }
        }
       }
      }
     },
     "metadata": {},
     "output_type": "display_data"
    }
   ],
   "source": [
    "import plotly.graph_objects as go\n",
    "\n",
    "# Calculate total units by borough\n",
    "borough_totals = (\n",
    "    df_social_housing_borough\n",
    "    .groupby('Planning authority')['Number of proposed social housing units']\n",
    "    .sum()\n",
    "    .sort_values(ascending=False)\n",
    ")\n",
    "\n",
    "# Get region info for hover labels\n",
    "borough_regions = (\n",
    "    df_social_housing_borough\n",
    "    .drop_duplicates('Planning authority')\n",
    "    .set_index('Planning authority')['Region']\n",
    ")\n",
    "\n",
    "# Determine height: 25 pixels per borough, with a minimum height\n",
    "bar_height = 25\n",
    "min_height = 400\n",
    "height = max(min_height, bar_height * len(borough_totals))\n",
    "\n",
    "# Create bar chart\n",
    "fig = go.Figure()\n",
    "\n",
    "fig.add_trace(go.Bar(\n",
    "    x=borough_totals.values,\n",
    "    y=borough_totals.index,\n",
    "    orientation='h',\n",
    "    marker=dict(\n",
    "        color=[color_map.get(b, '#999999') for b in borough_totals.index]\n",
    "    ),\n",
    "    hovertemplate=(\n",
    "        '<b>%{y}</b><br>'\n",
    "        'Region: %{customdata[0]}<br>'\n",
    "        'Total Proposed Units: %{x}<br>'\n",
    "        '<extra></extra>'\n",
    "    ),\n",
    "    customdata=[[borough_regions.get(b)] for b in borough_totals.index]\n",
    "))\n",
    "\n",
    "# Update layout\n",
    "fig.update_layout(\n",
    "    title='Fig 6. Total Proposed Social Housing Units by Borough (2015-2025)',\n",
    "    xaxis_title='Proposed Social Housing Units',\n",
    "    yaxis_title='Borough',\n",
    "    template='plotly_white',\n",
    "    autosize=False,\n",
    "    height=height,\n",
    "    yaxis=dict(autorange=\"reversed\")  # Largest at the top\n",
    ")\n",
    "\n",
    "fig.show()\n"
   ]
  },
  {
   "cell_type": "code",
   "execution_count": 57,
   "id": "5abd94a7",
   "metadata": {},
   "outputs": [],
   "source": [
    "# Save the fig a a json\n",
    "pio.write_json(fig, \"outputs/council_proposed_london_stacked_bar.json\")"
   ]
  },
  {
   "cell_type": "code",
   "execution_count": 58,
   "id": "3406ab0f",
   "metadata": {},
   "outputs": [
    {
     "data": {
      "application/vnd.plotly.v1+json": {
       "config": {
        "plotlyServerURL": "https://plot.ly"
       },
       "data": [
        {
         "marker": {
          "color": "#047495"
         },
         "name": "Proposed Social Housing Units (2024)",
         "orientation": "h",
         "type": "bar",
         "x": [
          904,
          701,
          529,
          236,
          201,
          195,
          176,
          158,
          134,
          94,
          83,
          77,
          75,
          72,
          70,
          54,
          49,
          41,
          33,
          23,
          14,
          11,
          10,
          10,
          6,
          1,
          0,
          0,
          0,
          0,
          0,
          0,
          0
         ],
         "y": [
          "Southwark",
          "Tower Hamlets",
          "Newham",
          "Haringey",
          "Islington",
          "Greenwich",
          "Wandsworth",
          "Kingston upon Thames",
          "Enfield",
          "Barnet",
          "Hillingdon",
          "Hammersmith and Fulham",
          "Merton",
          "Ealing",
          "Sutton",
          "Redbridge",
          "Bromley",
          "Camden",
          "Kensington and Chelsea",
          "Brent",
          "Hounslow",
          "Havering",
          "Lambeth",
          "Lewisham",
          "Croydon",
          "Waltham Forest",
          "Barking and Dagenham",
          "Richmond upon Thames",
          "Harrow",
          "Hackney",
          "City of London",
          "Bexley",
          "Westminster"
         ]
        },
        {
         "marker": {
          "color": "#c20078"
         },
         "name": "Households Owed a Prevention Duty (2024 Q4)",
         "orientation": "h",
         "type": "bar",
         "x": [
          803,
          565,
          1001,
          777,
          649,
          630,
          921,
          90,
          722,
          904,
          688,
          233,
          252,
          756,
          244,
          534,
          412,
          356,
          326,
          null,
          657,
          541,
          995,
          null,
          985,
          458,
          359,
          412,
          375,
          697,
          10,
          229,
          834
         ],
         "y": [
          "Southwark",
          "Tower Hamlets",
          "Newham",
          "Haringey",
          "Islington",
          "Greenwich",
          "Wandsworth",
          "Kingston upon Thames",
          "Enfield",
          "Barnet",
          "Hillingdon",
          "Hammersmith and Fulham",
          "Merton",
          "Ealing",
          "Sutton",
          "Redbridge",
          "Bromley",
          "Camden",
          "Kensington and Chelsea",
          "Brent",
          "Hounslow",
          "Havering",
          "Lambeth",
          "Lewisham",
          "Croydon",
          "Waltham Forest",
          "Barking and Dagenham",
          "Richmond upon Thames",
          "Harrow",
          "Hackney",
          "City of London",
          "Bexley",
          "Westminster"
         ]
        }
       ],
       "layout": {
        "barmode": "group",
        "height": 1000,
        "template": {
         "data": {
          "bar": [
           {
            "error_x": {
             "color": "#2a3f5f"
            },
            "error_y": {
             "color": "#2a3f5f"
            },
            "marker": {
             "line": {
              "color": "white",
              "width": 0.5
             },
             "pattern": {
              "fillmode": "overlay",
              "size": 10,
              "solidity": 0.2
             }
            },
            "type": "bar"
           }
          ],
          "barpolar": [
           {
            "marker": {
             "line": {
              "color": "white",
              "width": 0.5
             },
             "pattern": {
              "fillmode": "overlay",
              "size": 10,
              "solidity": 0.2
             }
            },
            "type": "barpolar"
           }
          ],
          "carpet": [
           {
            "aaxis": {
             "endlinecolor": "#2a3f5f",
             "gridcolor": "#C8D4E3",
             "linecolor": "#C8D4E3",
             "minorgridcolor": "#C8D4E3",
             "startlinecolor": "#2a3f5f"
            },
            "baxis": {
             "endlinecolor": "#2a3f5f",
             "gridcolor": "#C8D4E3",
             "linecolor": "#C8D4E3",
             "minorgridcolor": "#C8D4E3",
             "startlinecolor": "#2a3f5f"
            },
            "type": "carpet"
           }
          ],
          "choropleth": [
           {
            "colorbar": {
             "outlinewidth": 0,
             "ticks": ""
            },
            "type": "choropleth"
           }
          ],
          "contour": [
           {
            "colorbar": {
             "outlinewidth": 0,
             "ticks": ""
            },
            "colorscale": [
             [
              0,
              "#0d0887"
             ],
             [
              0.1111111111111111,
              "#46039f"
             ],
             [
              0.2222222222222222,
              "#7201a8"
             ],
             [
              0.3333333333333333,
              "#9c179e"
             ],
             [
              0.4444444444444444,
              "#bd3786"
             ],
             [
              0.5555555555555556,
              "#d8576b"
             ],
             [
              0.6666666666666666,
              "#ed7953"
             ],
             [
              0.7777777777777778,
              "#fb9f3a"
             ],
             [
              0.8888888888888888,
              "#fdca26"
             ],
             [
              1,
              "#f0f921"
             ]
            ],
            "type": "contour"
           }
          ],
          "contourcarpet": [
           {
            "colorbar": {
             "outlinewidth": 0,
             "ticks": ""
            },
            "type": "contourcarpet"
           }
          ],
          "heatmap": [
           {
            "colorbar": {
             "outlinewidth": 0,
             "ticks": ""
            },
            "colorscale": [
             [
              0,
              "#0d0887"
             ],
             [
              0.1111111111111111,
              "#46039f"
             ],
             [
              0.2222222222222222,
              "#7201a8"
             ],
             [
              0.3333333333333333,
              "#9c179e"
             ],
             [
              0.4444444444444444,
              "#bd3786"
             ],
             [
              0.5555555555555556,
              "#d8576b"
             ],
             [
              0.6666666666666666,
              "#ed7953"
             ],
             [
              0.7777777777777778,
              "#fb9f3a"
             ],
             [
              0.8888888888888888,
              "#fdca26"
             ],
             [
              1,
              "#f0f921"
             ]
            ],
            "type": "heatmap"
           }
          ],
          "heatmapgl": [
           {
            "colorbar": {
             "outlinewidth": 0,
             "ticks": ""
            },
            "colorscale": [
             [
              0,
              "#0d0887"
             ],
             [
              0.1111111111111111,
              "#46039f"
             ],
             [
              0.2222222222222222,
              "#7201a8"
             ],
             [
              0.3333333333333333,
              "#9c179e"
             ],
             [
              0.4444444444444444,
              "#bd3786"
             ],
             [
              0.5555555555555556,
              "#d8576b"
             ],
             [
              0.6666666666666666,
              "#ed7953"
             ],
             [
              0.7777777777777778,
              "#fb9f3a"
             ],
             [
              0.8888888888888888,
              "#fdca26"
             ],
             [
              1,
              "#f0f921"
             ]
            ],
            "type": "heatmapgl"
           }
          ],
          "histogram": [
           {
            "marker": {
             "pattern": {
              "fillmode": "overlay",
              "size": 10,
              "solidity": 0.2
             }
            },
            "type": "histogram"
           }
          ],
          "histogram2d": [
           {
            "colorbar": {
             "outlinewidth": 0,
             "ticks": ""
            },
            "colorscale": [
             [
              0,
              "#0d0887"
             ],
             [
              0.1111111111111111,
              "#46039f"
             ],
             [
              0.2222222222222222,
              "#7201a8"
             ],
             [
              0.3333333333333333,
              "#9c179e"
             ],
             [
              0.4444444444444444,
              "#bd3786"
             ],
             [
              0.5555555555555556,
              "#d8576b"
             ],
             [
              0.6666666666666666,
              "#ed7953"
             ],
             [
              0.7777777777777778,
              "#fb9f3a"
             ],
             [
              0.8888888888888888,
              "#fdca26"
             ],
             [
              1,
              "#f0f921"
             ]
            ],
            "type": "histogram2d"
           }
          ],
          "histogram2dcontour": [
           {
            "colorbar": {
             "outlinewidth": 0,
             "ticks": ""
            },
            "colorscale": [
             [
              0,
              "#0d0887"
             ],
             [
              0.1111111111111111,
              "#46039f"
             ],
             [
              0.2222222222222222,
              "#7201a8"
             ],
             [
              0.3333333333333333,
              "#9c179e"
             ],
             [
              0.4444444444444444,
              "#bd3786"
             ],
             [
              0.5555555555555556,
              "#d8576b"
             ],
             [
              0.6666666666666666,
              "#ed7953"
             ],
             [
              0.7777777777777778,
              "#fb9f3a"
             ],
             [
              0.8888888888888888,
              "#fdca26"
             ],
             [
              1,
              "#f0f921"
             ]
            ],
            "type": "histogram2dcontour"
           }
          ],
          "mesh3d": [
           {
            "colorbar": {
             "outlinewidth": 0,
             "ticks": ""
            },
            "type": "mesh3d"
           }
          ],
          "parcoords": [
           {
            "line": {
             "colorbar": {
              "outlinewidth": 0,
              "ticks": ""
             }
            },
            "type": "parcoords"
           }
          ],
          "pie": [
           {
            "automargin": true,
            "type": "pie"
           }
          ],
          "scatter": [
           {
            "fillpattern": {
             "fillmode": "overlay",
             "size": 10,
             "solidity": 0.2
            },
            "type": "scatter"
           }
          ],
          "scatter3d": [
           {
            "line": {
             "colorbar": {
              "outlinewidth": 0,
              "ticks": ""
             }
            },
            "marker": {
             "colorbar": {
              "outlinewidth": 0,
              "ticks": ""
             }
            },
            "type": "scatter3d"
           }
          ],
          "scattercarpet": [
           {
            "marker": {
             "colorbar": {
              "outlinewidth": 0,
              "ticks": ""
             }
            },
            "type": "scattercarpet"
           }
          ],
          "scattergeo": [
           {
            "marker": {
             "colorbar": {
              "outlinewidth": 0,
              "ticks": ""
             }
            },
            "type": "scattergeo"
           }
          ],
          "scattergl": [
           {
            "marker": {
             "colorbar": {
              "outlinewidth": 0,
              "ticks": ""
             }
            },
            "type": "scattergl"
           }
          ],
          "scattermapbox": [
           {
            "marker": {
             "colorbar": {
              "outlinewidth": 0,
              "ticks": ""
             }
            },
            "type": "scattermapbox"
           }
          ],
          "scatterpolar": [
           {
            "marker": {
             "colorbar": {
              "outlinewidth": 0,
              "ticks": ""
             }
            },
            "type": "scatterpolar"
           }
          ],
          "scatterpolargl": [
           {
            "marker": {
             "colorbar": {
              "outlinewidth": 0,
              "ticks": ""
             }
            },
            "type": "scatterpolargl"
           }
          ],
          "scatterternary": [
           {
            "marker": {
             "colorbar": {
              "outlinewidth": 0,
              "ticks": ""
             }
            },
            "type": "scatterternary"
           }
          ],
          "surface": [
           {
            "colorbar": {
             "outlinewidth": 0,
             "ticks": ""
            },
            "colorscale": [
             [
              0,
              "#0d0887"
             ],
             [
              0.1111111111111111,
              "#46039f"
             ],
             [
              0.2222222222222222,
              "#7201a8"
             ],
             [
              0.3333333333333333,
              "#9c179e"
             ],
             [
              0.4444444444444444,
              "#bd3786"
             ],
             [
              0.5555555555555556,
              "#d8576b"
             ],
             [
              0.6666666666666666,
              "#ed7953"
             ],
             [
              0.7777777777777778,
              "#fb9f3a"
             ],
             [
              0.8888888888888888,
              "#fdca26"
             ],
             [
              1,
              "#f0f921"
             ]
            ],
            "type": "surface"
           }
          ],
          "table": [
           {
            "cells": {
             "fill": {
              "color": "#EBF0F8"
             },
             "line": {
              "color": "white"
             }
            },
            "header": {
             "fill": {
              "color": "#C8D4E3"
             },
             "line": {
              "color": "white"
             }
            },
            "type": "table"
           }
          ]
         },
         "layout": {
          "annotationdefaults": {
           "arrowcolor": "#2a3f5f",
           "arrowhead": 0,
           "arrowwidth": 1
          },
          "autotypenumbers": "strict",
          "coloraxis": {
           "colorbar": {
            "outlinewidth": 0,
            "ticks": ""
           }
          },
          "colorscale": {
           "diverging": [
            [
             0,
             "#8e0152"
            ],
            [
             0.1,
             "#c51b7d"
            ],
            [
             0.2,
             "#de77ae"
            ],
            [
             0.3,
             "#f1b6da"
            ],
            [
             0.4,
             "#fde0ef"
            ],
            [
             0.5,
             "#f7f7f7"
            ],
            [
             0.6,
             "#e6f5d0"
            ],
            [
             0.7,
             "#b8e186"
            ],
            [
             0.8,
             "#7fbc41"
            ],
            [
             0.9,
             "#4d9221"
            ],
            [
             1,
             "#276419"
            ]
           ],
           "sequential": [
            [
             0,
             "#0d0887"
            ],
            [
             0.1111111111111111,
             "#46039f"
            ],
            [
             0.2222222222222222,
             "#7201a8"
            ],
            [
             0.3333333333333333,
             "#9c179e"
            ],
            [
             0.4444444444444444,
             "#bd3786"
            ],
            [
             0.5555555555555556,
             "#d8576b"
            ],
            [
             0.6666666666666666,
             "#ed7953"
            ],
            [
             0.7777777777777778,
             "#fb9f3a"
            ],
            [
             0.8888888888888888,
             "#fdca26"
            ],
            [
             1,
             "#f0f921"
            ]
           ],
           "sequentialminus": [
            [
             0,
             "#0d0887"
            ],
            [
             0.1111111111111111,
             "#46039f"
            ],
            [
             0.2222222222222222,
             "#7201a8"
            ],
            [
             0.3333333333333333,
             "#9c179e"
            ],
            [
             0.4444444444444444,
             "#bd3786"
            ],
            [
             0.5555555555555556,
             "#d8576b"
            ],
            [
             0.6666666666666666,
             "#ed7953"
            ],
            [
             0.7777777777777778,
             "#fb9f3a"
            ],
            [
             0.8888888888888888,
             "#fdca26"
            ],
            [
             1,
             "#f0f921"
            ]
           ]
          },
          "colorway": [
           "#636efa",
           "#EF553B",
           "#00cc96",
           "#ab63fa",
           "#FFA15A",
           "#19d3f3",
           "#FF6692",
           "#B6E880",
           "#FF97FF",
           "#FECB52"
          ],
          "font": {
           "color": "#2a3f5f"
          },
          "geo": {
           "bgcolor": "white",
           "lakecolor": "white",
           "landcolor": "white",
           "showlakes": true,
           "showland": true,
           "subunitcolor": "#C8D4E3"
          },
          "hoverlabel": {
           "align": "left"
          },
          "hovermode": "closest",
          "mapbox": {
           "style": "light"
          },
          "paper_bgcolor": "white",
          "plot_bgcolor": "white",
          "polar": {
           "angularaxis": {
            "gridcolor": "#EBF0F8",
            "linecolor": "#EBF0F8",
            "ticks": ""
           },
           "bgcolor": "white",
           "radialaxis": {
            "gridcolor": "#EBF0F8",
            "linecolor": "#EBF0F8",
            "ticks": ""
           }
          },
          "scene": {
           "xaxis": {
            "backgroundcolor": "white",
            "gridcolor": "#DFE8F3",
            "gridwidth": 2,
            "linecolor": "#EBF0F8",
            "showbackground": true,
            "ticks": "",
            "zerolinecolor": "#EBF0F8"
           },
           "yaxis": {
            "backgroundcolor": "white",
            "gridcolor": "#DFE8F3",
            "gridwidth": 2,
            "linecolor": "#EBF0F8",
            "showbackground": true,
            "ticks": "",
            "zerolinecolor": "#EBF0F8"
           },
           "zaxis": {
            "backgroundcolor": "white",
            "gridcolor": "#DFE8F3",
            "gridwidth": 2,
            "linecolor": "#EBF0F8",
            "showbackground": true,
            "ticks": "",
            "zerolinecolor": "#EBF0F8"
           }
          },
          "shapedefaults": {
           "line": {
            "color": "#2a3f5f"
           }
          },
          "ternary": {
           "aaxis": {
            "gridcolor": "#DFE8F3",
            "linecolor": "#A2B1C6",
            "ticks": ""
           },
           "baxis": {
            "gridcolor": "#DFE8F3",
            "linecolor": "#A2B1C6",
            "ticks": ""
           },
           "bgcolor": "white",
           "caxis": {
            "gridcolor": "#DFE8F3",
            "linecolor": "#A2B1C6",
            "ticks": ""
           }
          },
          "title": {
           "x": 0.05
          },
          "xaxis": {
           "automargin": true,
           "gridcolor": "#EBF0F8",
           "linecolor": "#EBF0F8",
           "ticks": "",
           "title": {
            "standoff": 15
           },
           "zerolinecolor": "#EBF0F8",
           "zerolinewidth": 2
          },
          "yaxis": {
           "automargin": true,
           "gridcolor": "#EBF0F8",
           "linecolor": "#EBF0F8",
           "ticks": "",
           "title": {
            "standoff": 15
           },
           "zerolinecolor": "#EBF0F8",
           "zerolinewidth": 2
          }
         }
        },
        "title": {
         "text": "Fig. 7: Proposed Social Housing Units vs Households Owed a Prevention Duty"
        },
        "xaxis": {
         "title": {
          "text": "Count"
         }
        },
        "yaxis": {
         "autorange": "reversed",
         "title": {
          "text": "Borough"
         }
        }
       }
      }
     },
     "metadata": {},
     "output_type": "display_data"
    }
   ],
   "source": [
    "# Filter 2024 data for proposed social housing units\n",
    "df_2024 = df_social_housing_borough[df_social_housing_borough['Year'] == 2024]\n",
    "\n",
    "# Merge with prevention duty data to align boroughs\n",
    "df_compare = pd.merge(\n",
    "    df_2024[['Planning authority', 'Number of proposed social housing units']],\n",
    "    df_pd[['Borough', 'Total number of households assessed1,2']],\n",
    "    left_on='Planning authority',\n",
    "    right_on='Borough',\n",
    "    how='inner'\n",
    ")\n",
    "\n",
    "# Convert assessed households to numeric\n",
    "df_compare['Total number of households assessed1,2'] = pd.to_numeric(\n",
    "    df_compare['Total number of households assessed1,2'], errors='coerce'\n",
    ")\n",
    "\n",
    "# Sort by borough for consistent plotting\n",
    "df_compare.sort_values('Planning authority', inplace=True)\n",
    "\n",
    "\n",
    "# Sort by number of proposed units, descending\n",
    "df_compare_sorted = df_compare.sort_values(\n",
    "    'Number of proposed social housing units',\n",
    "    ascending=False\n",
    ")\n",
    "\n",
    "# Plot\n",
    "fig_compare = go.Figure()\n",
    "\n",
    "fig_compare.add_trace(go.Bar(\n",
    "    y=df_compare_sorted['Planning authority'],\n",
    "    x=df_compare_sorted['Number of proposed social housing units'],\n",
    "    name='Proposed Social Housing Units (2024)',\n",
    "    marker_color='#047495',\n",
    "    orientation='h'\n",
    "))\n",
    "\n",
    "fig_compare.add_trace(go.Bar(\n",
    "    y=df_compare_sorted['Planning authority'],\n",
    "    x=df_compare_sorted['Total number of households assessed1,2'],\n",
    "    name='Households Owed a Prevention Duty (2024 Q4)',\n",
    "    marker_color='#c20078',\n",
    "    orientation='h'\n",
    "))\n",
    "\n",
    "fig_compare.update_layout(\n",
    "    barmode='group',\n",
    "    title='Fig. 7: Proposed Social Housing Units vs Households Owed a Prevention Duty',\n",
    "    xaxis_title='Count',\n",
    "    yaxis_title='Borough',\n",
    "    template='plotly_white',\n",
    "    height=1000,\n",
    "    yaxis=dict(autorange=\"reversed\")  # Largest at the top\n",
    ")\n",
    "\n",
    "fig_compare.show()\n",
    "\n",
    "\n"
   ]
  },
  {
   "cell_type": "code",
   "execution_count": 59,
   "id": "08f53f44",
   "metadata": {},
   "outputs": [],
   "source": [
    "# Save the fig a a json\n",
    "pio.write_json(fig_compare, \"outputs/council_proposed_vs_prevention_stacked_bar.json\")"
   ]
  }
 ],
 "metadata": {
  "kernelspec": {
   "display_name": "AI4CI_base_env",
   "language": "python",
   "name": "python3"
  },
  "language_info": {
   "codemirror_mode": {
    "name": "ipython",
    "version": 3
   },
   "file_extension": ".py",
   "mimetype": "text/x-python",
   "name": "python",
   "nbconvert_exporter": "python",
   "pygments_lexer": "ipython3",
   "version": "3.9.20"
  }
 },
 "nbformat": 4,
 "nbformat_minor": 5
}
