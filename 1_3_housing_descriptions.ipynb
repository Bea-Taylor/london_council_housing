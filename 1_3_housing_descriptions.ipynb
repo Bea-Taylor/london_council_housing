{
 "cells": [
  {
   "cell_type": "markdown",
   "id": "6b813371",
   "metadata": {},
   "source": [
    "# Housing descriptions \n",
    "\n",
    "This nb looks at the information contained in the descriptions of the planning applications. "
   ]
  },
  {
   "cell_type": "code",
   "execution_count": null,
   "id": "d7c6648b",
   "metadata": {},
   "outputs": [],
   "source": [
    "import pandas as pd\n",
    "import re \n",
    "\n",
    "from elasticsearch import Elasticsearch\n",
    "\n",
    "import sys\n",
    "# Import custom functions which help process and format the planning data \n",
    "sys.path.append('functions')\n",
    "import preprocessing_fncs as ppf\n",
    "import elastic_search_fncs as esf"
   ]
  },
  {
   "cell_type": "markdown",
   "id": "c6947f7a",
   "metadata": {},
   "source": [
    "### Connect to the Planning London Datahub"
   ]
  },
  {
   "cell_type": "code",
   "execution_count": 2,
   "id": "695eca8b",
   "metadata": {},
   "outputs": [
    {
     "name": "stdout",
     "output_type": "stream",
     "text": [
      "Connected to Elasticsearch!\n"
     ]
    },
    {
     "name": "stderr",
     "output_type": "stream",
     "text": [
      "/var/folders/4n/x6w1yfcx01qbymrsfpz4ybq00000gn/T/ipykernel_42193/3166167906.py:9: DeprecationWarning: The 'http_auth' parameter is deprecated. Use 'basic_auth' or 'bearer_auth' parameters instead\n",
      "  es = Elasticsearch(\n"
     ]
    }
   ],
   "source": [
    "# Details of the dataset\n",
    "db_host = 'https://athena.london.gov.uk'\n",
    "db_user = 'odbc_readonly'\n",
    "db_pass = 'odbc_readonly'\n",
    "db_port = '10099'\n",
    "db_name = 'gla-ldd-external'\n",
    "\n",
    "# Creates connection to the dataset\n",
    "es = Elasticsearch(\n",
    "    [f\"{db_host}:{db_port}\"],\n",
    "    http_auth=(db_user, db_pass)\n",
    ")\n",
    "\n",
    "# Check connection\n",
    "if es.ping():\n",
    "    print(\"Connected to Elasticsearch!\")\n",
    "else:\n",
    "    print(\"Could not connect to Elasticsearch.\")"
   ]
  },
  {
   "cell_type": "markdown",
   "id": "c609fb77",
   "metadata": {},
   "source": [
    "### Process planning application data "
   ]
  },
  {
   "cell_type": "code",
   "execution_count": 3,
   "id": "84b5fedd",
   "metadata": {},
   "outputs": [
    {
     "name": "stdout",
     "output_type": "stream",
     "text": [
      "Number of residential planning applications since 1/1/2022: 1118\n"
     ]
    }
   ],
   "source": [
    "# The request return all planning applications over a five year period, starting 1/1/2015, with at least 1 social housing unit gain. \n",
    "df = esf.social_units_x_query(es, x_res_units=1, since_year=\"01/01/2015\", to_year=\"01/01/2025\")\n",
    "\n",
    "# Format the data \n",
    "df = ppf.format_df(df)\n",
    "\n",
    "print(f'Number of residential planning applications since 1/1/2022: {len(df)}')"
   ]
  },
  {
   "cell_type": "code",
   "execution_count": 6,
   "id": "22a5108d",
   "metadata": {},
   "outputs": [],
   "source": [
    "self_build = 'total_no_proposed_residential_units_self_build_and_custom_build'\n",
    "\n",
    "social_housing = 'total_no_proposed_residential_units_social_rent'\n",
    "\n",
    "affordable_rent = ['total_no_proposed_residential_units_london_living_rent',\n",
    "                   'total_no_proposed_residential_units_discount_market_rent_charged_at_london_rents',\n",
    "                   'total_no_proposed_residential_units_london_affordable_rent',\n",
    "                   'total_no_proposed_residential_units_discount_market_rent']\n",
    "\n",
    "affordable_sale = ['total_no_proposed_residential_units_shared_equity',\n",
    "                   'total_no_proposed_residential_units_london_shared_ownership',\n",
    "                   'total_no_proposed_residential_units_discount_market_sale',\n",
    "                   'total_no_proposed_residential_units_starter_homes']\n",
    "\n",
    "market_rent = 'total_no_proposed_residential_units_market_for_rent'\n",
    "\n",
    "market_sale = 'total_no_proposed_residential_units_market_for_sale'"
   ]
  },
  {
   "cell_type": "code",
   "execution_count": 8,
   "id": "6bc920c5",
   "metadata": {},
   "outputs": [],
   "source": [
    "df['self_build'] = pd.to_numeric(df[self_build])\n",
    "df['social_housing'] = pd.to_numeric(df[social_housing])\n",
    "df['affordable_rent'] = pd.to_numeric(df[affordable_rent].sum(axis=1))\n",
    "df['affordable_sale'] = pd.to_numeric(df[affordable_sale].sum(axis=1))\n",
    "df['market_rent'] = pd.to_numeric(df[market_rent])\n",
    "df['market_sale'] = pd.to_numeric(df[market_sale])"
   ]
  },
  {
   "cell_type": "code",
   "execution_count": 9,
   "id": "f5c163e2",
   "metadata": {},
   "outputs": [],
   "source": [
    "def generate_build_type(df):\n",
    "    def determine_build_type(row):\n",
    "        if row['social_housing'] == row['total_no_proposed_residential_units']:\n",
    "            return 'Social housing'\n",
    "        else:\n",
    "            return 'Mixed social housing'\n",
    "\n",
    "    df['build_type'] = df.apply(determine_build_type, axis=1)\n",
    "    return df\n",
    "\n",
    "# Apply the function to the dataframe\n",
    "df = generate_build_type(df)"
   ]
  },
  {
   "cell_type": "markdown",
   "id": "77b8cd17",
   "metadata": {},
   "source": [
    "### Regex matching of terms "
   ]
  },
  {
   "cell_type": "code",
   "execution_count": 10,
   "id": "e1ad377e",
   "metadata": {},
   "outputs": [
    {
     "name": "stdout",
     "output_type": "stream",
     "text": [
      "Matches for 'infill': 18\n",
      "Matches for 'demolition': 526\n",
      "Matches for 'community': 149\n",
      "Matches for 'clearance': 13\n",
      "Matches for 'cycle': 444\n",
      "Matches for 'heatpump': 0\n",
      "Matches for 'solar panels': 4\n",
      "Matches for 'non material': 8\n"
     ]
    }
   ],
   "source": [
    "descriptions = df['description'].astype(str)\n",
    "\n",
    "regex_term = ['infill', 'demolition', 'community', 'clearance', 'cycle', 'heatpump', 'solar panels', 'non material']\n",
    "\n",
    "for term in regex_term:\n",
    "    regex = re.compile(rf'\\b(?:{term})\\b', re.IGNORECASE)\n",
    "    matches = []\n",
    "    for text in descriptions:\n",
    "        if regex.search(text):\n",
    "            matches.append(text)\n",
    "    print(f\"Matches for '{term}': {len(matches)}\")"
   ]
  }
 ],
 "metadata": {
  "kernelspec": {
   "display_name": "AI4CI_base_env",
   "language": "python",
   "name": "python3"
  },
  "language_info": {
   "codemirror_mode": {
    "name": "ipython",
    "version": 3
   },
   "file_extension": ".py",
   "mimetype": "text/x-python",
   "name": "python",
   "nbconvert_exporter": "python",
   "pygments_lexer": "ipython3",
   "version": "3.9.20"
  }
 },
 "nbformat": 4,
 "nbformat_minor": 5
}
